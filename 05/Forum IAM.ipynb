{
 "cells": [
  {
   "cell_type": "code",
   "execution_count": 117,
   "id": "2d591ef3",
   "metadata": {},
   "outputs": [],
   "source": [
    "import numpy as np\n",
    "class Class():\n",
    "    def __init__(self, name):\n",
    "        self.name = name\n",
    "        self.students = []\n",
    "        self.profs = []\n",
    "    \n",
    "    def __str__(self):\n",
    "        return f\"Profs: {[prof.name for prof in self.profs]}\\nStudents: {[kid.name for kid in self.students]}\"\n",
    "    \n",
    "    def breakouts(self, num_groups):\n",
    "        groups = []\n",
    "        rand_students = self.students.copy()\n",
    "        np.random.shuffle(rand_students)\n",
    "        group_size = (len(rand_students)//num_groups)+1\n",
    "        \n",
    "        for i in range(num_groups-1):\n",
    "            groups.append(rand_students[i*group_size:(i+1)*group_size])\n",
    "        groups.append(rand_students[(i+1)*group_size:])\n",
    "        \n",
    "        return groups\n",
    "    \n",
    "    def add_student(self, student):\n",
    "        self.students.append(student)\n",
    "        student.classes.append(self)\n",
    "        \n",
    "    def add_prof(self, prof):\n",
    "        self.profs.append(prof)\n",
    "        prof.classes.append(self)\n",
    "        \n",
    "    def remove_student(self, student):\n",
    "        if student in self.students:\n",
    "            self.students.remove(student)\n",
    "            student.classes.remove(self)\n",
    "        \n",
    "    def remove_prof(self, prof):\n",
    "        if prof in self.profs:\n",
    "            self.profs.remove(prof)\n",
    "            prof.classes.remove(self)"
   ]
  },
  {
   "cell_type": "code",
   "execution_count": 118,
   "id": "46cadbd5",
   "metadata": {},
   "outputs": [],
   "source": [
    "class Forum_User:\n",
    "    def __init__(self, name):\n",
    "        self.name = name\n",
    "        self.classes = []\n",
    "        self.muted = True\n",
    "    \n",
    "    def __str__(self):\n",
    "        return self.name\n",
    "    \n",
    "    def mute(self):\n",
    "        self.muted = True\n",
    "    \n",
    "    def unmute(self):\n",
    "        self.muted = False\n",
    "\n",
    "class Prof(Forum_User):\n",
    "    def __init__(self, name):\n",
    "        super().__init__(name)\n",
    "    \n",
    "    def send_to_breakout(self, class_room, num_groups):\n",
    "        if class_room in self.classes:\n",
    "            breakouts = class_room.breakouts(num_groups)\n",
    "        return breakouts\n",
    "    \n",
    "    def mute_all(self, class_room):\n",
    "        if self in class_room.profs:\n",
    "            for student in class_room.students:\n",
    "                student.mute()\n",
    "\n",
    "class Student(Forum_User):\n",
    "    def __init__(self, name):\n",
    "        super().__init__(name)\n"
   ]
  },
  {
   "cell_type": "code",
   "execution_count": 122,
   "id": "47ac2655",
   "metadata": {},
   "outputs": [
    {
     "name": "stdout",
     "output_type": "stream",
     "text": [
      "Profs: []\n",
      "Students: []\n",
      "\n",
      "\n",
      "Profs: ['Prof. Shekar', 'Prof. Diamond']\n",
      "Students: ['Favour Okeke', 'Aarthi Varshini', 'Philip Boakye']\n"
     ]
    },
    {
     "data": {
      "text/plain": [
       "[[('Philip Boakye', True), ('Favour Okeke', True)],\n",
       " [('Aarthi Varshini', True)]]"
      ]
     },
     "execution_count": 122,
     "metadata": {},
     "output_type": "execute_result"
    }
   ],
   "source": [
    "cs162 = Class(\"CS162\")\n",
    "shekar = Prof(\"Prof. Shekar\")\n",
    "dmond = Prof(\"Prof. Diamond\")\n",
    "favour = Student(\"Favour Okeke\")\n",
    "aarthi = Student(\"Aarthi Varshini\")\n",
    "philip = Student(\"Philip Boakye\")\n",
    "favour.unmute()\n",
    "philip.unmute()\n",
    "\n",
    "print(cs162)\n",
    "\n",
    "cs162.add_student(favour)\n",
    "cs162.add_student(aarthi)\n",
    "cs162.add_student(philip)\n",
    "\n",
    "cs162.add_prof(shekar)\n",
    "cs162.add_prof(dmond)\n",
    "\n",
    "print(\"\\n\")\n",
    "\n",
    "print(cs162)\n",
    "shekar.mute_all(cs162)\n",
    "\n",
    "breakouts = [[(kid.name, kid.muted) for kid in group] for group in shekar.send_to_breakout(cs162, 2)]\n",
    "breakouts"
   ]
  },
  {
   "cell_type": "code",
   "execution_count": null,
   "id": "9563a787",
   "metadata": {},
   "outputs": [],
   "source": []
  },
  {
   "cell_type": "code",
   "execution_count": null,
   "id": "7eadb6df",
   "metadata": {},
   "outputs": [],
   "source": []
  }
 ],
 "metadata": {
  "kernelspec": {
   "display_name": "Python 3",
   "language": "python",
   "name": "python3"
  },
  "language_info": {
   "codemirror_mode": {
    "name": "ipython",
    "version": 3
   },
   "file_extension": ".py",
   "mimetype": "text/x-python",
   "name": "python",
   "nbconvert_exporter": "python",
   "pygments_lexer": "ipython3",
   "version": "3.8.8"
  }
 },
 "nbformat": 4,
 "nbformat_minor": 5
}
